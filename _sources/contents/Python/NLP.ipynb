{
 "cells": [
  {
   "cell_type": "markdown",
   "id": "72d1cd01",
   "metadata": {},
   "source": [
    "## NLP"
   ]
  },
  {
   "cell_type": "markdown",
   "id": "4a90bb52",
   "metadata": {},
   "source": [
    "```{admonition} Problem: [OKCUPID] Term Frequency\n",
    ":class: dropdown, tip\n",
    "\n",
    "Say you are given a text document in the form of a string with the following sentences:\n",
    "\n",
    "**Input**\n",
    "\n",
    "`\n",
    "document = \"I have a nice car with a nice tires\"\n",
    "`\n",
    "\n",
    "**Output**\n",
    "\n",
    "`\n",
    "{\n",
    "\"I\":0.11,\n",
    "\"have\":0.11,\n",
    "\"a\":0.22,\n",
    "\"nice\":0.22,\n",
    "\"car\": 0.11,\n",
    "\"with\":0.11,\n",
    "\"tires\":0.11\n",
    "}\n",
    "`\n",
    "Write a program in python to determine the TF (term frequency) values for each term of this document.\n",
    "```"
   ]
  },
  {
   "cell_type": "code",
   "execution_count": 10,
   "id": "f2e84c66",
   "metadata": {
    "tags": [
     "hide-cell"
    ]
   },
   "outputs": [
    {
     "data": {
      "text/plain": [
       "{'I': 0.11,\n",
       " 'have': 0.11,\n",
       " 'a': 0.22,\n",
       " 'nice': 0.22,\n",
       " 'car': 0.11,\n",
       " 'with': 0.11,\n",
       " 'tires': 0.11}"
      ]
     },
     "execution_count": 10,
     "metadata": {},
     "output_type": "execute_result"
    }
   ],
   "source": [
    "# term freq = freq of term 't' in doc 'd' / total terms in 'd'\n",
    "\n",
    "def tf(doc):\n",
    "    temp_list = doc.split(\" \") # split terms\n",
    "    final_dict = {} # store final dictionary with term freq\n",
    "    for i in temp_list:\n",
    "        if i not in final_dict.keys(): # check if term is already present in dict\n",
    "            final_dict[i] = round(temp_list.count(i)/len(temp_list),2) # calculating tf\n",
    "    return final_dict\n",
    "\n",
    "tf(\"I have a nice car with a nice tires\")"
   ]
  }
 ],
 "metadata": {
  "kernelspec": {
   "display_name": "Python 3",
   "language": "python",
   "name": "python3"
  },
  "language_info": {
   "codemirror_mode": {
    "name": "ipython",
    "version": 3
   },
   "file_extension": ".py",
   "mimetype": "text/x-python",
   "name": "python",
   "nbconvert_exporter": "python",
   "pygments_lexer": "ipython3",
   "version": "3.7.4"
  }
 },
 "nbformat": 4,
 "nbformat_minor": 5
}
