{
 "cells": [
  {
   "cell_type": "markdown",
   "id": "fcd0adcb",
   "metadata": {},
   "source": [
    "## Basics"
   ]
  },
  {
   "cell_type": "markdown",
   "id": "4e83c46f",
   "metadata": {},
   "source": [
    "```{figure} ../Python/images/image2.PNG\n",
    "---\n",
    "name: image2\n",
    "scale: 100%\n",
    "---\n",
    "```"
   ]
  },
  {
   "cell_type": "markdown",
   "id": "dafb0278",
   "metadata": {},
   "source": [
    "### Questions"
   ]
  },
  {
   "cell_type": "markdown",
   "id": "0d04e48d",
   "metadata": {},
   "source": [
    "```{admonition} Problem: [SNAPCHAT] Palindrome Checker\n",
    ":class: dropdown, tip\n",
    "\n",
    "Given a string, determine whether any permutation of it is a palindrome.\n",
    "\n",
    "For example, carerac should return true, since it can be rearranged to form racecar, which is a palindrome. sunset should return false, since there's no rearrangement that can form a palindrome.\n",
    "```"
   ]
  },
  {
   "cell_type": "code",
   "execution_count": 1,
   "id": "25c8ca5d",
   "metadata": {
    "tags": [
     "hide-cell"
    ]
   },
   "outputs": [
    {
     "name": "stdout",
     "output_type": "stream",
     "text": [
      "True\n",
      "False\n"
     ]
    }
   ],
   "source": [
    "# A string can be a palindrome only if it has even pair of characters and at max 1 odd character\n",
    "\n",
    "\n",
    "def palindrome_checker(txt):\n",
    "        temp = {}\n",
    "        odd_count = 0\n",
    "        even_count = 0\n",
    "        for i in (txt): # Storing characters and their count\n",
    "            if i in temp.keys():\n",
    "                temp[i] = temp[i] + 1\n",
    "            else:\n",
    "                temp[i] = 1\n",
    "        for i in temp: # Check count of characters\n",
    "            if temp[i]%2==0:\n",
    "                even_count = even_count + 1\n",
    "            else:\n",
    "                odd_count = odd_count + 1\n",
    "        if((odd_count>1)or(even_count==0)):\n",
    "            return False\n",
    "        else:\n",
    "            return True    \n",
    "\n",
    "print(palindrome_checker(\"carerac\"))\n",
    "print(palindrome_checker(\"sunset\"))"
   ]
  },
  {
   "cell_type": "markdown",
   "id": "6904738b",
   "metadata": {},
   "source": [
    "```{admonition} Problem: Pattern Generation\n",
    ":class: dropdown, tip\n",
    "Write a function to generate this pattern:\\\n",
    "1\\\n",
    "2 3\\\n",
    "4 5 6\n",
    "\n",
    "Now change the code to output\\\n",
    "1\\\n",
    "1 2\\\n",
    "1 2 3\n",
    "```"
   ]
  },
  {
   "cell_type": "code",
   "execution_count": 27,
   "id": "373c9006",
   "metadata": {
    "tags": [
     "hide-cell"
    ]
   },
   "outputs": [
    {
     "name": "stdout",
     "output_type": "stream",
     "text": [
      " \n",
      "1  \n",
      "2 3  \n",
      "4 5 6  \n"
     ]
    }
   ],
   "source": [
    "def pyramid(n):\n",
    "    i = 1\n",
    "    j = 1\n",
    "    while i < n:\n",
    "        for k in range(1,j):\n",
    "            print(i, end=' ') # For the second pattern change i to k\n",
    "            i += 1\n",
    "        print(\" \") \n",
    "        j +=1\n",
    "\n",
    "pyramid(6)"
   ]
  },
  {
   "cell_type": "markdown",
   "id": "066c5b00",
   "metadata": {},
   "source": [
    "```{admonition} Problem: [UBER] Sum to N\n",
    ":class: dropdown, tip\n",
    "\n",
    "Given a list of integers, find all combinations that equal the value N.\n",
    "\n",
    "Example: \n",
    "\n",
    "integers = [2,3,5], target = 8,\n",
    "\n",
    "output = [[2,2,2,2],[2,3,3],[3,5]]\n",
    "```"
   ]
  },
  {
   "cell_type": "code",
   "execution_count": 79,
   "id": "16f8a9de",
   "metadata": {
    "tags": [
     "hide-cell"
    ]
   },
   "outputs": [
    {
     "data": {
      "text/plain": [
       "[[2, 2, 2, 2], [2, 3, 3], [3, 5]]"
      ]
     },
     "execution_count": 79,
     "metadata": {},
     "output_type": "execute_result"
    }
   ],
   "source": [
    "# Ref: https://stackoverflow.com/questions/58415182/function-that-find-combination-of-values-that-sums-to-a-given-number\n",
    "\n",
    "def a(lst, target):\n",
    "    final_list = [] # list to store all the valid results\n",
    "    \n",
    "    def _a(idx, li):\n",
    "        if target == sum(li): final_list.append(li)\n",
    "        elif target < sum(li): return\n",
    "        \n",
    "        for u in range(idx, len(lst)):\n",
    "            _a(u , li + [lst[u]]) # recursive call\n",
    "        return final_list\n",
    "    \n",
    "    return _a(0, []) # initial call\n",
    "\n",
    "a([2,3,5],8)"
   ]
  },
  {
   "cell_type": "markdown",
   "id": "21e02a8d",
   "metadata": {},
   "source": [
    "```{admonition} Problem: [STARBUCKS] Max Profit\n",
    ":class: dropdown, tip\n",
    "\n",
    "Given a list of stock prices in ascending order by datetime, write a function that outputs the max profit by buying and selling at a specific interval.\n",
    "\n",
    "Example:\n",
    "\n",
    "stock_prices = [10,5,20,32,25,12]\n",
    "\n",
    "buy --> 5\n",
    "sell --> 32\n",
    "\n",
    "```"
   ]
  },
  {
   "cell_type": "code",
   "execution_count": 27,
   "id": "4ee8d6ca",
   "metadata": {
    "tags": [
     "hide-cell"
    ]
   },
   "outputs": [
    {
     "name": "stdout",
     "output_type": "stream",
     "text": [
      "5 32\n"
     ]
    }
   ],
   "source": [
    "stock_prices = [10,5,20,32,25,12]\n",
    "\n",
    "diff = []\n",
    "for i,j in enumerate(stock_prices):\n",
    "    for k in range(i+1,len(stock_prices)):\n",
    "        diff.append(stock_prices[k]-j)\n",
    "        if(len(diff)>2 and (diff[-1]> max(diff[:-1]))):\n",
    "            buy = j\n",
    "            sell = stock_prices[k]\n",
    "\n",
    "print(buy,sell)"
   ]
  },
  {
   "cell_type": "markdown",
   "id": "a27b656b",
   "metadata": {},
   "source": [
    "```{admonition} Problem: [IBM] Isomorphic string check\n",
    ":class: dropdown, tip\n",
    "\n",
    "Write a function which will check if each character of string1 can be mapped to a unique character of string2.\n",
    "\n",
    "Example: \n",
    "string1 = 'donut'\n",
    "string2 = 'fatty'\n",
    "\n",
    "string_map(string1, string2) == False # as n and u both get mapped to t\n",
    "\n",
    "string1 = 'enemy'\n",
    "string2 = 'enemy'\n",
    "\n",
    "string_map(string1, string2) == True # as e's get mapped to e even though there is two e\n",
    "\n",
    "string1 = 'enemy'\n",
    "string2 = 'yneme'\n",
    "\n",
    "string_map(string1, string2) == False # as e's dont get mapped uniquely\n",
    "\n",
    "```"
   ]
  },
  {
   "cell_type": "code",
   "execution_count": 49,
   "id": "2e36fde3",
   "metadata": {
    "tags": [
     "hide-cell"
    ]
   },
   "outputs": [
    {
     "name": "stdout",
     "output_type": "stream",
     "text": [
      "True\n",
      "False\n",
      "False\n",
      "False\n",
      "True\n"
     ]
    }
   ],
   "source": [
    "def string_map(string1, string2):    \n",
    "    if(string1==string2):\n",
    "        status = True\n",
    "    elif(len(string1)!=len(string2)):\n",
    "        status = False\n",
    "    else:\n",
    "        tempstore = {}\n",
    "        for i,j in enumerate(string1):\n",
    "            if(j in tempstore):               \n",
    "                if(tempstore[j] != string2[i]):\n",
    "                    status = False\n",
    "                    break\n",
    "            elif(string2[i] in tempstore.values()):\n",
    "                    status = False\n",
    "                    break\n",
    "            else:\n",
    "                tempstore[j] = string2[i]\n",
    "                status = True\n",
    "    return status\n",
    "\n",
    "print(string_map('enemy', 'enemy'))\n",
    "print(string_map('enemy', 'yneme'))\n",
    "print(string_map('cat', 'ftt'))\n",
    "print(string_map('ctt', 'fat'))\n",
    "print(string_map('cat', 'fat'))"
   ]
  },
  {
   "cell_type": "markdown",
   "id": "bc88ed04",
   "metadata": {},
   "source": [
    "```{admonition} Problem: [WORKDAY] Sorted String merge\n",
    ":class: dropdown, tip\n",
    "\n",
    "Given two sorted lists, write a function to merge them into one sorted list.\n",
    "\n",
    "What's the time complexity?\n",
    "\n",
    "```"
   ]
  },
  {
   "cell_type": "code",
   "execution_count": 58,
   "id": "6383e824",
   "metadata": {
    "tags": [
     "hide-cell"
    ]
   },
   "outputs": [
    {
     "name": "stdout",
     "output_type": "stream",
     "text": [
      "Array after merging\n",
      "1 2 3 4 5 6 7 8 "
     ]
    }
   ],
   "source": [
    "def mergeArrays(arr1, arr2):\n",
    "    \n",
    "    n1 = len(arr1)\n",
    "    n2 = len(arr2)\n",
    "    arr3 = [None] * (n1 + n2)\n",
    "    i = 0\n",
    "    j = 0\n",
    "    k = 0\n",
    "    # Traverse both array\n",
    "    while i < n1 and j < n2:     \n",
    "        # Check if current element of first array is smaller than current element of second array. \n",
    "        # If yes, store first array element and increment first array index. Otherwise do same with second array\n",
    "        \n",
    "        if arr1[i] < arr2[j]:\n",
    "            arr3[k] = arr1[i]\n",
    "            k = k + 1\n",
    "            i = i + 1\n",
    "        else:\n",
    "            arr3[k] = arr2[j]\n",
    "            k = k + 1\n",
    "            j = j + 1\n",
    "     \n",
    " \n",
    "    # Store remaining elements\n",
    "    # of first array\n",
    "    while i < n1:\n",
    "        arr3[k] = arr1[i];\n",
    "        k = k + 1\n",
    "        i = i + 1\n",
    " \n",
    "    # Store remaining elements\n",
    "    # of second array\n",
    "    while j < n2:\n",
    "        arr3[k] = arr2[j];\n",
    "        k = k + 1\n",
    "        j = j + 1\n",
    "    print(\"Array after merging\")\n",
    "    for i in range(n1 + n2):\n",
    "        print(str(arr3[i]), end = \" \")\n",
    " \n",
    "\n",
    "arr1 = [1, 3, 5, 7]\n",
    "arr2 = [2, 4, 6, 8]\n",
    "mergeArrays(arr1, arr2)\n",
    "\n",
    "# Next coming to the time complexity it is linear as the execution time of the algorithm grows in direct proportion to the size of the data set it is processing.\n",
    "# For merging two arrays, we are always going to iterate through both of them no matter what, \n",
    "# so the number of iterations will always be m+n and the time complexity being O(m+n) where m = len(arr1) and n = len(arr2)"
   ]
  },
  {
   "cell_type": "markdown",
   "id": "84736e39",
   "metadata": {},
   "source": [
    "```{admonition} Problem: [POSTMATES] Weekly Aggregation\n",
    ":class: dropdown, tip\n",
    "\n",
    "Given a list of timestamps in sequential order, return a list of lists grouped by week (7 days) using the first timestamp as the starting point.\n",
    "\n",
    "Example:\n",
    "\n",
    "ts = [\n",
    "    '2019-01-01', \n",
    "    '2019-01-02',\n",
    "    '2019-01-08', \n",
    "    '2019-02-01', \n",
    "    '2019-02-02',\n",
    "    '2019-02-05',\n",
    "]\n",
    "\n",
    "output = [\n",
    "    ['2019-01-01', '2019-01-02'], \n",
    "    ['2019-01-08'], \n",
    "    ['2019-02-01', '2019-02-02'],\n",
    "    ['2019-02-05'],\n",
    "]\n",
    "\n",
    "```"
   ]
  },
  {
   "cell_type": "code",
   "execution_count": 8,
   "id": "b9883884",
   "metadata": {
    "tags": [
     "hide-cell"
    ]
   },
   "outputs": [
    {
     "name": "stdout",
     "output_type": "stream",
     "text": [
      "[['2019-01-01', '2019-01-02'], ['2019-01-08'], ['2019-02-01', '2019-02-02'], ['2019-02-05']]\n"
     ]
    }
   ],
   "source": [
    "ts = [\n",
    "    '2019-01-01', \n",
    "    '2019-01-02',\n",
    "    '2019-01-08', \n",
    "    '2019-02-01', \n",
    "    '2019-02-02',\n",
    "    '2019-02-05',\n",
    "]\n",
    "\n",
    "from datetime import datetime as dt\n",
    "from itertools import groupby\n",
    "\n",
    "first = dt.strptime(inp[0], \"%Y-%m-%d\")\n",
    "out = []\n",
    "\n",
    "for k, g in groupby(ts, key=lambda d: (dt.strptime(d, \"%Y-%m-%d\") - first).days // 7 ):\n",
    "    out.append(list(g))\n",
    "\n",
    "print(out)"
   ]
  },
  {
   "cell_type": "markdown",
   "id": "0eee28a9",
   "metadata": {},
   "source": [
    "```{admonition} Problem: [MICROSOFT] Find the missing number\n",
    ":class: dropdown, tip\n",
    "\n",
    "You have an array of integers of length n spanning 0 to n with one missing. Write a function that returns the missing number in the array\n",
    "\n",
    "Example:\n",
    "\n",
    "nums = [0,1,2,4,5] \n",
    "missingNumber(nums) -> 3\n",
    "Complexity of O(N) required.\n",
    "\n",
    "```"
   ]
  },
  {
   "cell_type": "code",
   "execution_count": 13,
   "id": "26ce4c3a",
   "metadata": {
    "tags": [
     "hide-cell"
    ]
   },
   "outputs": [
    {
     "name": "stdout",
     "output_type": "stream",
     "text": [
      "3\n"
     ]
    }
   ],
   "source": [
    "nums = [0,1,2,4,5]\n",
    "\n",
    "for i in range(0,len(nums)-1):\n",
    "    if(nums[i+1]-nums[i]>1):\n",
    "        print(nums[i]+1)        "
   ]
  },
  {
   "cell_type": "markdown",
   "id": "59c08deb",
   "metadata": {},
   "source": [
    "```{admonition} Problem: [SQUARE] Book Combinations\n",
    ":class: dropdown, tip\n",
    "\n",
    "You have store credit of N dollars. However, you don’t want to walk a long distance with heavy books, but you want to spend all of your store credit.\n",
    "\n",
    "Let’s say we have a list of books in the format of tuples where the first value is the price and the second value is the weight of the book -> (price,weight).\n",
    "\n",
    "Write a function optimal_books to retrieve the combination allows you to spend all of your store credit while getting at least two books at the lowest weight.\n",
    "\n",
    "Note: you should spend all your credit and getting at least 2 books, If no such condition satisfied just return empty list.\n",
    "\n",
    "Example:\n",
    "\n",
    "    N = 18\n",
    "    books = [(17,8), (9,4), (18,5), (11,9), (1,2), (13,7), (7,5), (3,6), (10,8)]\n",
    "\n",
    "    def optimal_books(N, books) -> [(17,8),(1,2)]\n",
    "```"
   ]
  },
  {
   "cell_type": "code",
   "execution_count": 47,
   "id": "ee1687ad",
   "metadata": {
    "tags": [
     "hide-cell"
    ]
   },
   "outputs": [
    {
     "name": "stdout",
     "output_type": "stream",
     "text": [
      "(Price,Weight) details of books:  [(17, 8), (9, 4), (18, 5), (11, 9), (1, 2), (13, 7), (7, 5), (3, 6), (10, 8)]\n",
      "Store Credit:  18\n",
      "Best Combination:  [(1, 2), (17, 8)]\n"
     ]
    }
   ],
   "source": [
    "# Let's take this step by step\n",
    "import itertools\n",
    "\n",
    "def optimal_books(N, books):\n",
    "    print(\"(Price,Weight) details of books: \",books)\n",
    "    print(\"Store Credit: \",N)\n",
    "    final_books = [] # empty list to store the final books\n",
    "    # sorting the books by weight as we need the lightest books\n",
    "    sorted_books = sorted(books, key = lambda x:x[1]) \n",
    "    price = [i[0] for i in sorted_books] #list of prices sorted by weight\n",
    "    \n",
    "    for i in range(2,len(price)+1):\n",
    "        templist = (list(itertools.combinations(price,i))) # generating all combinations of price\n",
    "        res = [sum(j) for j in templist] # summing individual combination to get total price of each combination\n",
    "        if N in res: # if the result matches traceback traceback and append the combination         \n",
    "            tempbooks = (templist[res.index(N)])            \n",
    "            for k in tempbooks:\n",
    "                final_books.append(sorted_books[price.index(k)])            \n",
    "            break\n",
    "            \n",
    "    return final_books\n",
    "        \n",
    "N = 18\n",
    "books = [(17,8), (9,4), (18,5), (11,9), (1,2), (13,7), (7,5), (3,6), (10,8)]\n",
    "print(\"Best Combination: \",optimal_books(N,books))"
   ]
  },
  {
   "cell_type": "markdown",
   "id": "5f8b9358",
   "metadata": {},
   "source": [
    "```{admonition} Problem: [WISH] Intersecting Lines\n",
    ":class: dropdown, tip\n",
    "\n",
    "Say you are given a list of tuples where the first element is the slope of a line and the second element is the y-intercept of a line.\n",
    "\n",
    "Write a function find_intersecting to find which lines, if any, intersect with any of the others in the given x_range.\n",
    "\n",
    "**Example Input**\n",
    "\n",
    "`\n",
    "tuple_list = [(2, 3), (-3, 5), (4, 6), (5, 7)]\n",
    "x_range = (0, 1)\n",
    "`\n",
    "**Output**\n",
    "\n",
    "`\n",
    "def find_intersecting(tuple_list, x_range) ->  [(2,3), (-3,5)]\n",
    "`\n",
    " \n",
    "```"
   ]
  },
  {
   "cell_type": "code",
   "execution_count": 10,
   "id": "a1ba3684",
   "metadata": {
    "tags": [
     "hide-cell"
    ]
   },
   "outputs": [
    {
     "data": {
      "text/plain": [
       "[(2, 3), (-3, 5)]"
      ]
     },
     "execution_count": 10,
     "metadata": {},
     "output_type": "execute_result"
    }
   ],
   "source": [
    "# for 2 lines to intersect the formulas used here are:\n",
    "# y = mx + c\n",
    "# x = (c2-c1)/(m1-m2)\n",
    "# https://www.cuemath.com/geometry/intersection-of-two-lines/ Check this link for details of the formula\n",
    "\n",
    "def intersectinglines(tuple_list,x_range):\n",
    "    output=[]\n",
    "    for i in range(len(tuple_list)):\n",
    "        for j in range(i+1,len(tuple_list)):\n",
    "\n",
    "            x = (tuple_list[j][1]-tuple_list[i][1])/(tuple_list[i][0]-tuple_list[j][0])\n",
    "            y = tuple_list[j][1]*x+tuple_list[j][0]\n",
    "\n",
    "            if x>=x_range[0] and x<=x_range[1]:\n",
    "                output.extend([tuple_list[i],tuple_list[j]])\n",
    "    return output\n",
    "\n",
    "tuple_list = [(2, 3), (-3, 5), (4, 6), (5, 7)]\n",
    "x_range = (0, 1)\n",
    "\n",
    "intersectinglines(tuple_list, x_range)"
   ]
  }
 ],
 "metadata": {
  "kernelspec": {
   "display_name": "Python 3",
   "language": "python",
   "name": "python3"
  },
  "language_info": {
   "codemirror_mode": {
    "name": "ipython",
    "version": 3
   },
   "file_extension": ".py",
   "mimetype": "text/x-python",
   "name": "python",
   "nbconvert_exporter": "python",
   "pygments_lexer": "ipython3",
   "version": "3.7.4"
  }
 },
 "nbformat": 4,
 "nbformat_minor": 5
}
